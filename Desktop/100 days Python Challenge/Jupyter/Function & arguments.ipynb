{
 "cells": [
  {
   "cell_type": "code",
   "execution_count": null,
   "id": "f6927515",
   "metadata": {},
   "outputs": [],
   "source": [
    "#Function"
   ]
  },
  {
   "cell_type": "code",
   "execution_count": 10,
   "id": "bec12d6f",
   "metadata": {},
   "outputs": [
    {
     "name": "stdout",
     "output_type": "stream",
     "text": [
      "30\n"
     ]
    }
   ],
   "source": [
    "x = 10\n",
    "y = 20\n",
    "add = (x + y)\n",
    "print(add)"
   ]
  },
  {
   "cell_type": "code",
   "execution_count": 24,
   "id": "0fa5f16d",
   "metadata": {},
   "outputs": [
    {
     "name": "stdout",
     "output_type": "stream",
     "text": [
      "250\n",
      "First number is greater\n",
      "210\n",
      "Second number is greater or equal\n"
     ]
    }
   ],
   "source": [
    "def calculate_sum(a,b):\n",
    "    sum = (a+b)\n",
    "    print(sum)\n",
    "\n",
    "def isGreater(a,b):\n",
    "    if(a>b):\n",
    "        print(\"First number is greater\")\n",
    "    else:\n",
    "        print(\"Second number is greater or equal\")\n",
    "        \n",
    "def isLesser(a,b):\n",
    "    pass\n",
    "a = 230\n",
    "b = 20\n",
    "\n",
    "calculate_sum(a,b)\n",
    "isGreater(a,b)\n",
    "\n",
    "c=80\n",
    "d=130\n",
    "\n",
    "calculate_sum(c,d)\n",
    "isGreater(c,d)"
   ]
  },
  {
   "cell_type": "code",
   "execution_count": null,
   "id": "ad441ffb",
   "metadata": {},
   "outputs": [],
   "source": [
    "# Function Argument"
   ]
  },
  {
   "cell_type": "code",
   "execution_count": null,
   "id": "1ab79043",
   "metadata": {},
   "outputs": [],
   "source": []
  },
  {
   "cell_type": "code",
   "execution_count": 32,
   "id": "b8ef7a3f",
   "metadata": {},
   "outputs": [
    {
     "name": "stdout",
     "output_type": "stream",
     "text": [
      "The average is 3.5\n",
      "The average is 4.5\n"
     ]
    }
   ],
   "source": [
    "def average(a=2,b=5):\n",
    "    print(\"The average is\", (a+b)/2)\n",
    "    \n",
    "average()\n",
    "average(4,5)\n"
   ]
  },
  {
   "cell_type": "code",
   "execution_count": 37,
   "id": "32464998",
   "metadata": {},
   "outputs": [
    {
     "ename": "SyntaxError",
     "evalue": "non-default argument follows default argument (3239358219.py, line 1)",
     "output_type": "error",
     "traceback": [
      "\u001b[1;36m  Cell \u001b[1;32mIn[37], line 1\u001b[1;36m\u001b[0m\n\u001b[1;33m    def name(f_name, m_name='Anil', l_name):\u001b[0m\n\u001b[1;37m                                    ^\u001b[0m\n\u001b[1;31mSyntaxError\u001b[0m\u001b[1;31m:\u001b[0m non-default argument follows default argument\n"
     ]
    }
   ],
   "source": [
    "def name(f_name, m_name='Anil', l_name):\n",
    "    print(\"Hello! My name is,\", f_name, m_name, l_name)\n",
    "    \n",
    "name(Reema, l_name = \"Rajput\")"
   ]
  },
  {
   "cell_type": "code",
   "execution_count": 42,
   "id": "6e84a801",
   "metadata": {},
   "outputs": [
    {
     "name": "stdout",
     "output_type": "stream",
     "text": [
      "Hello! My name is Reema Anil Singh\n"
     ]
    }
   ],
   "source": [
    "def name(f_name, m_name='Anil', l_name=\"Rajput\"):\n",
    "    print(\"Hello! My name is\", f_name, m_name, l_name)\n",
    "\n",
    "name(\"Reema\", l_name=\"Singh\")"
   ]
  },
  {
   "cell_type": "code",
   "execution_count": null,
   "id": "8f5939c5",
   "metadata": {},
   "outputs": [],
   "source": []
  }
 ],
 "metadata": {
  "kernelspec": {
   "display_name": "Python 3 (ipykernel)",
   "language": "python",
   "name": "python3"
  },
  "language_info": {
   "codemirror_mode": {
    "name": "ipython",
    "version": 3
   },
   "file_extension": ".py",
   "mimetype": "text/x-python",
   "name": "python",
   "nbconvert_exporter": "python",
   "pygments_lexer": "ipython3",
   "version": "3.11.5"
  }
 },
 "nbformat": 4,
 "nbformat_minor": 5
}
