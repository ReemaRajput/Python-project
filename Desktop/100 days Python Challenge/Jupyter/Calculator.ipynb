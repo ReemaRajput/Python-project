{
 "cells": [
  {
   "cell_type": "code",
   "execution_count": 2,
   "id": "7f75053f",
   "metadata": {},
   "outputs": [
    {
     "name": "stdout",
     "output_type": "stream",
     "text": [
      "What is the value of x: 10\n",
      "What is the value of y: 2\n",
      "On addition of 'x' & 'y' is:  12\n",
      "On Subraction of 'x' & 'y' is:  8\n",
      "On Division of 'x' & 'y' is:  5.0\n",
      "On Multiplication of 'x' & 'y' is:  20\n",
      "On Exponential of 'x' is:  100\n",
      "On Modulus of 'x' & 'y' is:  0\n",
      "On Floor Division of 'x' & 'y' is:  5\n"
     ]
    }
   ],
   "source": [
    "x = int(input(\"What is the value of x: \"))\n",
    "y = int(input(\"What is the value of y: \"))\n",
    "\n",
    "add = (x+y)\n",
    "print (\"On addition of 'x' & 'y' is: \", add )\n",
    "\n",
    "Subtract = (x-y)\n",
    "print (\"On Subraction of 'x' & 'y' is: \", Subtract )\n",
    "\n",
    "Division = (x/y)\n",
    "print (\"On Division of 'x' & 'y' is: \", Division )\n",
    "\n",
    "Multiplication = (x*y)\n",
    "print (\"On Multiplication of 'x' & 'y' is: \", Multiplication )\n",
    "\n",
    "Exponential = (x**y)\n",
    "print (\"On Exponential of 'x' is: \", Exponential )\n",
    "\n",
    "Modulus = (x%y)\n",
    "print (\"On Modulus of 'x' & 'y' is: \", Modulus )\n",
    "\n",
    "Floor_Division = (x//y)\n",
    "print (\"On Floor Division of 'x' & 'y' is: \", Floor_Division )"
   ]
  }
 ],
 "metadata": {
  "kernelspec": {
   "display_name": "Python 3 (ipykernel)",
   "language": "python",
   "name": "python3"
  },
  "language_info": {
   "codemirror_mode": {
    "name": "ipython",
    "version": 3
   },
   "file_extension": ".py",
   "mimetype": "text/x-python",
   "name": "python",
   "nbconvert_exporter": "python",
   "pygments_lexer": "ipython3",
   "version": "3.11.5"
  }
 },
 "nbformat": 4,
 "nbformat_minor": 5
}
