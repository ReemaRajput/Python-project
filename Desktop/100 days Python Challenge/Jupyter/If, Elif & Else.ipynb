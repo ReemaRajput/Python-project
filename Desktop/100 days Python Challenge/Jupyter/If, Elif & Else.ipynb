{
 "cells": [
  {
   "cell_type": "code",
   "execution_count": 1,
   "id": "e0f7e5ee",
   "metadata": {},
   "outputs": [],
   "source": [
    "#If & Else "
   ]
  },
  {
   "cell_type": "code",
   "execution_count": 2,
   "id": "ec01309c",
   "metadata": {},
   "outputs": [
    {
     "name": "stdout",
     "output_type": "stream",
     "text": [
      "Enter your marks: 55\n",
      "Congratulations! You have Passed the Exam!\n"
     ]
    }
   ],
   "source": [
    "Passing_Marks = 40\n",
    "Your_Marks = int(input(\"Enter your marks: \"))\n",
    "\n",
    "if Your_Marks >= Passing_Marks:\n",
    "    print(\"Congratulations! You have Passed the Exam!\")\n",
    "\n",
    "else:\n",
    "    print(\"Sorry, You have Failed the Exam!\")"
   ]
  },
  {
   "cell_type": "code",
   "execution_count": 3,
   "id": "2b41a323",
   "metadata": {},
   "outputs": [],
   "source": [
    "#If, Elif & Else"
   ]
  },
  {
   "cell_type": "code",
   "execution_count": 4,
   "id": "e9f6ed5d",
   "metadata": {},
   "outputs": [
    {
     "name": "stdout",
     "output_type": "stream",
     "text": [
      "Enter your marks: 65\n",
      "Great! You have Passed the Exam!\n"
     ]
    }
   ],
   "source": [
    "Passing_Marks = 40\n",
    "Your_Marks = int(input(\"Enter your marks: \"))\n",
    "\n",
    "if Your_Marks >= 80:\n",
    "    print(\"Congratulations! You have aced the Exam!\")\n",
    "\n",
    "elif Your_Marks >40:\n",
    "    print(\"Great! You have Passed the Exam!\")  \n",
    "\n",
    "elif Your_Marks == 40:\n",
    "    print(\"You have barely managed to clear the Exam.\\nNext time work harder.\")\n",
    "\n",
    "else:\n",
    "    print(\"Sorry, You have Failed the Exam!\")"
   ]
  },
  {
   "cell_type": "code",
   "execution_count": null,
   "id": "eeb1d338",
   "metadata": {},
   "outputs": [],
   "source": []
  }
 ],
 "metadata": {
  "kernelspec": {
   "display_name": "Python 3 (ipykernel)",
   "language": "python",
   "name": "python3"
  },
  "language_info": {
   "codemirror_mode": {
    "name": "ipython",
    "version": 3
   },
   "file_extension": ".py",
   "mimetype": "text/x-python",
   "name": "python",
   "nbconvert_exporter": "python",
   "pygments_lexer": "ipython3",
   "version": "3.11.5"
  }
 },
 "nbformat": 4,
 "nbformat_minor": 5
}
