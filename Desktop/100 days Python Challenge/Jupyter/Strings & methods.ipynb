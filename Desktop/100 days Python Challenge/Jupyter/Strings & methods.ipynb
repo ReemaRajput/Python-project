{
 "cells": [
  {
   "cell_type": "code",
   "execution_count": null,
   "id": "89c8ca2e",
   "metadata": {},
   "outputs": [],
   "source": [
    "Strings & methods"
   ]
  },
  {
   "cell_type": "code",
   "execution_count": 1,
   "id": "4a987750",
   "metadata": {},
   "outputs": [
    {
     "name": "stdout",
     "output_type": "stream",
     "text": [
      "Addition of 'x' & 'y' is 15\n",
      "Subraction of 'x' & 'y' is 5\n",
      "Division of 'x' & 'y' is 2.0\n",
      "Multiplication of 'x' & 'y' is 50\n",
      "Exponential of 'x' is 100000\n",
      "Modulus of 'x' & 'y' is 0\n",
      "Floor Division of 'x' & 'y' is 2\n"
     ]
    }
   ],
   "source": []
  },
  {
   "cell_type": "code",
   "execution_count": 2,
   "id": "b15c04d4",
   "metadata": {},
   "outputs": [
    {
     "name": "stdout",
     "output_type": "stream",
     "text": [
      "what is your lucky number?9\n",
      "My lucky number is 9\n"
     ]
    }
   ],
   "source": [
    "x = int(input(\"what is your lucky number?\"))\n",
    "print(\"My lucky number is\", x)"
   ]
  },
  {
   "cell_type": "code",
   "execution_count": 3,
   "id": "88637e12",
   "metadata": {},
   "outputs": [
    {
     "name": "stdout",
     "output_type": "stream",
     "text": [
      "My first number is: 5\n",
      "My second number is: 5\n",
      "10\n"
     ]
    }
   ],
   "source": [
    "x = int(input(\"My first number is: \"))\n",
    "y = int(input(\"My second number is: \"))\n",
    "\n",
    "print(x+y)"
   ]
  },
  {
   "cell_type": "code",
   "execution_count": 4,
   "id": "418c6b6c",
   "metadata": {},
   "outputs": [
    {
     "name": "stdout",
     "output_type": "stream",
     "text": [
      "My first number is: 5\n",
      "My second number is: 5\n",
      "10.0\n"
     ]
    }
   ],
   "source": [
    "x = input(\"My first number is: \")\n",
    "y = input(\"My second number is: \")\n",
    "\n",
    "print(float(x)+int(y))"
   ]
  },
  {
   "cell_type": "code",
   "execution_count": 6,
   "id": "299530e0",
   "metadata": {},
   "outputs": [
    {
     "name": "stdout",
     "output_type": "stream",
     "text": [
      "k\n",
      "Black is my fav color./n I have all the apparels in black\n"
     ]
    }
   ],
   "source": [
    "color = \"Pink\"\n",
    "Favourite_color= \"Black is my fav color./n I have all the apparels in black\"\n",
    "print(color[3])\n",
    "print(Favourite_color)"
   ]
  },
  {
   "cell_type": "code",
   "execution_count": 9,
   "id": "4dc8ec6d",
   "metadata": {},
   "outputs": [
    {
     "name": "stdout",
     "output_type": "stream",
     "text": [
      "P\n",
      "i\n",
      "n\n",
      "k\n"
     ]
    }
   ],
   "source": [
    "color = \"Pink\"\n",
    "favorite_color = \"Black is my fav color.\\nI have all the apparels in black\"\n",
    "for x in color:\n",
    "    print (x)"
   ]
  },
  {
   "cell_type": "code",
   "execution_count": 13,
   "id": "c87052b2",
   "metadata": {},
   "outputs": [
    {
     "name": "stdout",
     "output_type": "stream",
     "text": [
      "55\n",
      "Black is m\n"
     ]
    }
   ],
   "source": [
    "color = \"Pink\"\n",
    "favorite_color = \"Black is my fav color.\\nI have all the apparels in black\"\n",
    "\n",
    "print(len(favorite_color))\n",
    "print(favorite_color[0:10])"
   ]
  },
  {
   "cell_type": "code",
   "execution_count": 16,
   "id": "43699394",
   "metadata": {},
   "outputs": [
    {
     "name": "stdout",
     "output_type": "stream",
     "text": [
      "a\n",
      "b\n",
      "c\n",
      "d\n",
      "e\n",
      "f\n",
      "g\n",
      "h\n",
      "i\n",
      "j\n",
      "k\n",
      "l\n",
      "m\n",
      "n\n",
      "o\n",
      "p\n",
      "q\n",
      "r\n",
      "s\n",
      "t\n",
      "u\n",
      "v\n",
      "w\n",
      "x\n",
      "y\n",
      "z\n"
     ]
    }
   ],
   "source": [
    "alphabet= 'abcdefghijklmnopqrstuvwxyz'\n",
    "for x in alphabet:\n",
    "    print (x)"
   ]
  },
  {
   "cell_type": "code",
   "execution_count": 23,
   "id": "fbf7ad82",
   "metadata": {},
   "outputs": [
    {
     "name": "stdout",
     "output_type": "stream",
     "text": [
      "ar\n"
     ]
    }
   ],
   "source": [
    "nm=\"Harry\"\n",
    "print(nm[-4:-2])"
   ]
  },
  {
   "cell_type": "code",
   "execution_count": 48,
   "id": "8eaf851f",
   "metadata": {},
   "outputs": [
    {
     "name": "stdout",
     "output_type": "stream",
     "text": [
      "5\n",
      "REEMA\n",
      "reema\n",
      "Neha\n",
      "['Reema']\n",
      "22\n",
      "Welcome to the jungle!\n",
      "              welcome to the jungle!              \n",
      "11\n"
     ]
    }
   ],
   "source": [
    "#string method\n",
    "x= \"Reema\"\n",
    "print(len(x))\n",
    "#print(upper.x) -This doesn't work\n",
    "print(x.upper())\n",
    "print(x.lower())\n",
    "print(x.replace(\"Reema\",\"Neha\"))\n",
    "print(x.split(\" \")) #string to list\n",
    "\n",
    "y= \"welcome to the jungle!\"\n",
    "print(len(y))\n",
    "print(y.capitalize())\n",
    "print(y.center(50))\n",
    "print(y.find(\"the\")) #find the location of the given item"
   ]
  },
  {
   "cell_type": "code",
   "execution_count": null,
   "id": "bdfac975",
   "metadata": {},
   "outputs": [],
   "source": []
  }
 ],
 "metadata": {
  "kernelspec": {
   "display_name": "Python 3 (ipykernel)",
   "language": "python",
   "name": "python3"
  },
  "language_info": {
   "codemirror_mode": {
    "name": "ipython",
    "version": 3
   },
   "file_extension": ".py",
   "mimetype": "text/x-python",
   "name": "python",
   "nbconvert_exporter": "python",
   "pygments_lexer": "ipython3",
   "version": "3.11.5"
  }
 },
 "nbformat": 4,
 "nbformat_minor": 5
}
