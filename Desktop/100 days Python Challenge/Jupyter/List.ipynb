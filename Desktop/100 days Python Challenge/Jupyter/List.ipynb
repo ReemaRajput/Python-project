{
 "cells": [
  {
   "cell_type": "code",
   "execution_count": 2,
   "id": "fbe53f01",
   "metadata": {},
   "outputs": [
    {
     "name": "stdout",
     "output_type": "stream",
     "text": [
      "['a', 'b', 'c', 'd', 'e', 'f', 'g', 'h', 'i', 'j', 'k', 'l', 'm', 'n', 'o', 'p', 'q', 'r', 's', 't', 'u', 'v', 'w', 'x', 'y', 'z', 'A', 'B', 'C', 'D', 'E', 'F', 'G', 'H', 'I', 'J', 'K', 'L', 'M', 'N', 'O', 'P', 'Q', 'R', 'S', 'T', 'U', 'V', 'W', 'X', 'Y', 'Z']\n",
      "['a', 'b', 'c', 'd', 'e', 'f', 'g', 'h', 'i', 'j', 'k', 'l', 'm', 'n', 'o', 'p', 'q', 'r', 's', 't', 'u', 'v', 'w', 'x', 'y', 'z']\n"
     ]
    }
   ],
   "source": [
    "import string\n",
    "Alphabets =list(string.ascii_letters)\n",
    "Alphabets1=list(string.ascii_lowercase)\n",
    "print(Alphabets)\n",
    "print(Alphabets1)"
   ]
  },
  {
   "cell_type": "code",
   "execution_count": 2,
   "id": "4d164026",
   "metadata": {},
   "outputs": [
    {
     "name": "stdout",
     "output_type": "stream",
     "text": [
      "26\n"
     ]
    }
   ],
   "source": [
    "#Length\n",
    "print(len(Alphabets1))"
   ]
  },
  {
   "cell_type": "code",
   "execution_count": 3,
   "id": "49a0b784",
   "metadata": {},
   "outputs": [
    {
     "name": "stdout",
     "output_type": "stream",
     "text": [
      "<class 'list'>\n"
     ]
    }
   ],
   "source": [
    "#data type\n",
    "print(type(Alphabets1))"
   ]
  },
  {
   "cell_type": "code",
   "execution_count": 4,
   "id": "139a6dde",
   "metadata": {},
   "outputs": [
    {
     "name": "stdout",
     "output_type": "stream",
     "text": [
      "f\n"
     ]
    }
   ],
   "source": [
    "#access them by referring to the index number:\n",
    "print(Alphabets1[5])"
   ]
  },
  {
   "cell_type": "code",
   "execution_count": 5,
   "id": "df3dfe1d",
   "metadata": {},
   "outputs": [
    {
     "name": "stdout",
     "output_type": "stream",
     "text": [
      "['g', 'h', 'i', 'j', 'k', 'l', 'm', 'n', 'o', 'p', 'q', 'r', 's', 't', 'u']\n"
     ]
    }
   ],
   "source": [
    "#access them by referring to the index number:\n",
    "print(Alphabets1[6:-5])"
   ]
  },
  {
   "cell_type": "code",
   "execution_count": 6,
   "id": "d8d1416a",
   "metadata": {},
   "outputs": [
    {
     "name": "stdout",
     "output_type": "stream",
     "text": [
      "Yes, 'A' and 'a' is in the list\n"
     ]
    }
   ],
   "source": [
    "#To determine if a specified item is present in a list.\n",
    "if 'A'and'a' in Alphabets1:\n",
    "    print(\"Yes, 'A' and 'a' is in the list\")"
   ]
  },
  {
   "cell_type": "code",
   "execution_count": 7,
   "id": "a4a4b120",
   "metadata": {},
   "outputs": [
    {
     "name": "stdout",
     "output_type": "stream",
     "text": [
      "['a', 'b', 'c', 'd', 'e', 'f', 'g', 'h', 'i', 'j', 'k', 'l', 'm', 'n', 'o', 'p', 'q', 'r', 's', 't', 'u', 'v', 'w', 'x', 'y', 'z', 'A', 'B', 'C', 'D', 'E', 'F', 'G', 'H', 'I', 'J', 'K', 'L', 'M', 'N', 'O', 'P', 'Q', 'R', 'S', 'T', 'U', 'V', 'W', 'X', 'Y', 'Z', 'a', 'b', 'c', 'd', 'e', 'f', 'g', 'h', 'i', 'j', 'k', 'l', 'm', 'n', 'o', 'p', 'q', 'r', 's', 't', 'u', 'v', 'w', 'x', 'y', 'z']\n"
     ]
    }
   ],
   "source": [
    "#add one list to another\n",
    "Alphabets.extend(Alphabets1,)\n",
    "print(Alphabets)"
   ]
  },
  {
   "cell_type": "code",
   "execution_count": 8,
   "id": "ab623d17",
   "metadata": {},
   "outputs": [
    {
     "name": "stdout",
     "output_type": "stream",
     "text": [
      "['a', 'b', 'c', 'd', 'e', 'Pineapple', 'f', 'g', 'h', 'i', 'j', 'k', 'l', 'm', 'n', 'o', 'p', 'q', 'r', 's', 't', 'u', 'v', 'w', 'x', 'y', 'z']\n"
     ]
    }
   ],
   "source": [
    "#add list items\n",
    "Alphabets1.insert(5, \"Pineapple\")\n",
    "print(Alphabets1)"
   ]
  },
  {
   "cell_type": "code",
   "execution_count": 9,
   "id": "38ae1fec",
   "metadata": {},
   "outputs": [
    {
     "name": "stdout",
     "output_type": "stream",
     "text": [
      "['a', 'b', 'c', 'd', 'e', 'Five', 'f', 'g', 'h', 'i', 'j', 'k', 'l', 'm', 'n', 'o', 'p', 'q', 'r', 's', 't', 'u', 'v', 'w', 'x', 'y', 'z']\n"
     ]
    }
   ],
   "source": [
    "#change item values\n",
    "Alphabets1[5]= \"Five\"\n",
    "print(Alphabets1)"
   ]
  },
  {
   "cell_type": "code",
   "execution_count": 3,
   "id": "282bffe4",
   "metadata": {},
   "outputs": [
    {
     "name": "stdout",
     "output_type": "stream",
     "text": [
      "['z', 'y', 'x', 'w', 'v', 'u', 't', 's', 'r', 'q', 'p', 'o', 'n', 'm', 'l', 'k', 'j', 'i', 'h', 'g', 'f', 'e', 'd', 'c', 'b', 'a']\n"
     ]
    }
   ],
   "source": [
    "#Sort list in descending order\n",
    "Alphabets1.sort(reverse =True)\n",
    "print(Alphabets1)"
   ]
  },
  {
   "cell_type": "code",
   "execution_count": null,
   "id": "63ba8407",
   "metadata": {},
   "outputs": [],
   "source": [
    "List is ordered, changeable and allows duplicate members.\n",
    "Tuple is ordered, unchangeable and allows duplicate members.\n",
    "Set is unordered, unchangeable, and unindexed. No duplicate members.\n",
    "Dictionary is ordered ,changeable and No duplicate members."
   ]
  }
 ],
 "metadata": {
  "kernelspec": {
   "display_name": "Python 3 (ipykernel)",
   "language": "python",
   "name": "python3"
  },
  "language_info": {
   "codemirror_mode": {
    "name": "ipython",
    "version": 3
   },
   "file_extension": ".py",
   "mimetype": "text/x-python",
   "name": "python",
   "nbconvert_exporter": "python",
   "pygments_lexer": "ipython3",
   "version": "3.11.5"
  }
 },
 "nbformat": 4,
 "nbformat_minor": 5
}
