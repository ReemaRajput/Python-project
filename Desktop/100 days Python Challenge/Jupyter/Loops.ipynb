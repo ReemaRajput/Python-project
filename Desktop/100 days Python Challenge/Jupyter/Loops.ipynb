{
 "cells": [
  {
   "cell_type": "code",
   "execution_count": 1,
   "id": "6f067995",
   "metadata": {},
   "outputs": [],
   "source": [
    "#for loop"
   ]
  },
  {
   "cell_type": "code",
   "execution_count": 2,
   "id": "a578550a",
   "metadata": {},
   "outputs": [
    {
     "name": "stdout",
     "output_type": "stream",
     "text": [
      "Reema\n",
      "Rajput\n"
     ]
    }
   ],
   "source": [
    "name=(\"Reema\" ,\"Rajput\")\n",
    "\n",
    "for i in name:\n",
    "    print (i)"
   ]
  },
  {
   "cell_type": "code",
   "execution_count": 3,
   "id": "7144e588",
   "metadata": {},
   "outputs": [
    {
     "name": "stdout",
     "output_type": "stream",
     "text": [
      "Red\n",
      "R\n",
      "e\n",
      "d\n",
      "Black\n",
      "B\n",
      "l\n",
      "a\n",
      "c\n",
      "k\n",
      "Maroon\n",
      "M\n",
      "a\n",
      "r\n",
      "o\n",
      "o\n",
      "n\n",
      "Blue\n",
      "B\n",
      "l\n",
      "u\n",
      "e\n"
     ]
    }
   ],
   "source": [
    "colors = [\"Red\",\"Black\",\"Maroon\",\"Blue\"]\n",
    "for x in colors:\n",
    "    print(x)\n",
    "    for y in x:\n",
    "        print(y)"
   ]
  },
  {
   "cell_type": "code",
   "execution_count": 4,
   "id": "e383bc6b",
   "metadata": {},
   "outputs": [
    {
     "name": "stdout",
     "output_type": "stream",
     "text": [
      "1\n",
      "2\n",
      "3\n",
      "4\n",
      "5\n",
      "6\n",
      "7\n",
      "8\n",
      "9\n",
      "10\n"
     ]
    }
   ],
   "source": [
    "#range\n",
    "\n",
    "for r in range(10):\n",
    "    print (r+1)\n"
   ]
  },
  {
   "cell_type": "code",
   "execution_count": 5,
   "id": "ae83cb8c",
   "metadata": {},
   "outputs": [
    {
     "name": "stdout",
     "output_type": "stream",
     "text": [
      "0\n",
      "2\n",
      "4\n",
      "6\n",
      "8\n",
      "10\n",
      "12\n",
      "14\n",
      "16\n",
      "18\n"
     ]
    }
   ],
   "source": [
    "\n",
    "for k in range(0, 20, 2):\n",
    "    print(k)"
   ]
  },
  {
   "cell_type": "code",
   "execution_count": 6,
   "id": "6264228f",
   "metadata": {},
   "outputs": [],
   "source": [
    "#while loops"
   ]
  },
  {
   "cell_type": "code",
   "execution_count": 7,
   "id": "e6441866",
   "metadata": {},
   "outputs": [
    {
     "name": "stdout",
     "output_type": "stream",
     "text": [
      "1\n",
      "2\n",
      "3\n",
      "4\n",
      "5\n",
      "6\n"
     ]
    }
   ],
   "source": [
    "i=1\n",
    "while i<=6:\n",
    "    print(i)\n",
    "    i=i+1"
   ]
  },
  {
   "cell_type": "code",
   "execution_count": 8,
   "id": "34eff1c1",
   "metadata": {},
   "outputs": [
    {
     "name": "stdout",
     "output_type": "stream",
     "text": [
      "Enter your number: 2\n",
      "Enter your number: 5\n",
      "5\n",
      "Enter your number: 9\n",
      "9\n",
      "Enter your number: 12\n",
      "12\n",
      "Enter your number: 15\n",
      "15\n",
      "Done with the loop\n"
     ]
    }
   ],
   "source": [
    "i= int(input(\"Enter your number: \"))\n",
    "\n",
    "while i<=12:\n",
    "    i= int(input(\"Enter your number: \"))\n",
    "    print(i)\n",
    "    \n",
    "print(\"Done with the loop\")"
   ]
  },
  {
   "cell_type": "code",
   "execution_count": 12,
   "id": "1a37d909",
   "metadata": {},
   "outputs": [
    {
     "name": "stdout",
     "output_type": "stream",
     "text": [
      "10\n",
      "9\n",
      "8\n",
      "7\n",
      "6\n",
      "5\n",
      "4\n",
      "3\n",
      "2\n",
      "1\n",
      "I so done with you\n"
     ]
    }
   ],
   "source": [
    "number = 10\n",
    "while (number > 0):\n",
    "    print(number)\n",
    "    number = number-1\n",
    "else:\n",
    "    print(\"I so done with you\")"
   ]
  },
  {
   "cell_type": "code",
   "execution_count": null,
   "id": "228984ae",
   "metadata": {},
   "outputs": [],
   "source": [
    "#Break"
   ]
  },
  {
   "cell_type": "code",
   "execution_count": 35,
   "id": "4b5896dc",
   "metadata": {},
   "outputs": [
    {
     "name": "stdout",
     "output_type": "stream",
     "text": [
      "2 x 1 = 2\n",
      "2 x 2 = 4\n",
      "2 x 3 = 6\n",
      "2 x 4 = 8\n",
      "2 x 5 = 10\n",
      "2 x 6 = 12\n",
      "2 x 7 = 14\n",
      "2 x 8 = 16\n",
      "2 x 9 = 18\n",
      "2 x 10 = 20\n",
      "10 tak kafi hai\n"
     ]
    }
   ],
   "source": [
    "for i in range(12):\n",
    "    print(2 ,\"x\" ,i+1, \"=\", 2*(i+1))\n",
    "    if i == 9:\n",
    "        break\n",
    "    \n",
    "print(\"10 tak kafi hai\")"
   ]
  },
  {
   "cell_type": "code",
   "execution_count": 36,
   "id": "00a10df0",
   "metadata": {},
   "outputs": [
    {
     "name": "stdout",
     "output_type": "stream",
     "text": [
      "2 x 0 = 0\n",
      "2 x 1 = 2\n",
      "2 x 2 = 4\n",
      "2 x 3 = 6\n",
      "2 x 4 = 8\n",
      "2 x 5 = 10\n",
      "2 x 6 = 12\n",
      "2 x 7 = 14\n",
      "2 x 8 = 16\n",
      "2 x 9 = 18\n",
      "Take a break!\n",
      "2 x 11 = 22\n"
     ]
    }
   ],
   "source": [
    "for i in range(12):\n",
    "    if i == 10:\n",
    "        print(\"Take a break!\")\n",
    "        continue\n",
    "    print(2 ,\"x\" ,i, \"=\", 2*(i))\n"
   ]
  },
  {
   "cell_type": "code",
   "execution_count": null,
   "id": "c60f12b7",
   "metadata": {},
   "outputs": [],
   "source": [
    "#Do while loop"
   ]
  },
  {
   "cell_type": "code",
   "execution_count": 37,
   "id": "91a0349a",
   "metadata": {},
   "outputs": [
    {
     "name": "stdout",
     "output_type": "stream",
     "text": [
      "0\n",
      "1\n",
      "2\n",
      "3\n",
      "4\n",
      "5\n",
      "6\n",
      "7\n",
      "8\n",
      "9\n",
      "10\n",
      "11\n",
      "12\n",
      "13\n",
      "14\n",
      "15\n",
      "16\n",
      "17\n",
      "18\n",
      "19\n"
     ]
    }
   ],
   "source": [
    "i = 0\n",
    "while True:\n",
    "    print(i)\n",
    "    i = i + 1\n",
    "    if(i%20 == 0):\n",
    "        break\n",
    "        "
   ]
  },
  {
   "cell_type": "code",
   "execution_count": null,
   "id": "9b25ae3c",
   "metadata": {},
   "outputs": [],
   "source": [
    "#break means leave the loop\n",
    "#continue means exit the iteration"
   ]
  }
 ],
 "metadata": {
  "kernelspec": {
   "display_name": "Python 3 (ipykernel)",
   "language": "python",
   "name": "python3"
  },
  "language_info": {
   "codemirror_mode": {
    "name": "ipython",
    "version": 3
   },
   "file_extension": ".py",
   "mimetype": "text/x-python",
   "name": "python",
   "nbconvert_exporter": "python",
   "pygments_lexer": "ipython3",
   "version": "3.11.5"
  }
 },
 "nbformat": 4,
 "nbformat_minor": 5
}
