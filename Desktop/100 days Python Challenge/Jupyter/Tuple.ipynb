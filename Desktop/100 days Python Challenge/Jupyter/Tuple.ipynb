{
 "cells": [
  {
   "cell_type": "code",
   "execution_count": 1,
   "id": "fbe53f01",
   "metadata": {},
   "outputs": [
    {
     "name": "stdout",
     "output_type": "stream",
     "text": [
      "('a', 'b', 'c', 'd', 'e', 'f', 'g', 'h', 'i', 'j', 'k', 'l', 'm', 'n', 'o', 'p', 'q', 'r', 's', 't', 'u', 'v', 'w', 'x', 'y', 'z', 'A', 'B', 'C', 'D', 'E', 'F', 'G', 'H', 'I', 'J', 'K', 'L', 'M', 'N', 'O', 'P', 'Q', 'R', 'S', 'T', 'U', 'V', 'W', 'X', 'Y', 'Z')\n",
      "('a', 'b', 'c', 'd', 'e', 'f', 'g', 'h', 'i', 'j', 'k', 'l', 'm', 'n', 'o', 'p', 'q', 'r', 's', 't', 'u', 'v', 'w', 'x', 'y', 'z')\n"
     ]
    }
   ],
   "source": [
    "import string\n",
    "Alphabets =tuple(string.ascii_letters)\n",
    "Alphabets1=tuple(string.ascii_lowercase)\n",
    "print(Alphabets)\n",
    "print(Alphabets1)"
   ]
  },
  {
   "cell_type": "code",
   "execution_count": 2,
   "id": "4d164026",
   "metadata": {},
   "outputs": [
    {
     "name": "stdout",
     "output_type": "stream",
     "text": [
      "26\n"
     ]
    }
   ],
   "source": [
    "#Length\n",
    "print(len(Alphabets1))"
   ]
  },
  {
   "cell_type": "code",
   "execution_count": 3,
   "id": "49a0b784",
   "metadata": {},
   "outputs": [
    {
     "name": "stdout",
     "output_type": "stream",
     "text": [
      "<class 'tuple'>\n"
     ]
    }
   ],
   "source": [
    "#data type\n",
    "print(type(Alphabets))"
   ]
  },
  {
   "cell_type": "code",
   "execution_count": 4,
   "id": "139a6dde",
   "metadata": {},
   "outputs": [
    {
     "name": "stdout",
     "output_type": "stream",
     "text": [
      "k\n"
     ]
    }
   ],
   "source": [
    "#access them by referring to the index number:\n",
    "print(Alphabets1[10])"
   ]
  },
  {
   "cell_type": "code",
   "execution_count": 5,
   "id": "df3dfe1d",
   "metadata": {},
   "outputs": [
    {
     "name": "stdout",
     "output_type": "stream",
     "text": [
      "('c', 'd', 'e', 'f', 'g', 'h', 'i', 'j', 'k', 'l', 'm', 'n', 'o', 'p', 'q', 'r', 's')\n"
     ]
    }
   ],
   "source": [
    "#access them by referring to the index number:\n",
    "print(Alphabets1[2:-7])"
   ]
  },
  {
   "cell_type": "code",
   "execution_count": 11,
   "id": "d8d1416a",
   "metadata": {},
   "outputs": [
    {
     "name": "stdout",
     "output_type": "stream",
     "text": [
      "Yes, 'z' and 't' is in the list\n"
     ]
    }
   ],
   "source": [
    "#To determine if a specified item is present in a list.\n",
    "if 'z' and't' in Alphabets1:\n",
    "    print(\"Yes, 'z' and 't' is in the list\")"
   ]
  },
  {
   "cell_type": "code",
   "execution_count": 36,
   "id": "a4a4b120",
   "metadata": {},
   "outputs": [
    {
     "name": "stdout",
     "output_type": "stream",
     "text": [
      "('a', 'b', 'c', 'd', 'e', 'f', 'g', 'h', 'i', 'j', 'k', 'l', 'm', 'n', 'o', 'p', 'q', 'r', 's', 't', 'u', 'v', 'w', 'x', 'y', 'z', 'A', 'B', 'C', 'D', 'E', 'F', 'G', 'H', 'I', 'J', 'K', 'L', 'M', 'N', 'O', 'P', 'Q', 'R', 'S', 'T', 'U', 'V', 'W', 'X', 'Y', 'Z', 'JOKER')\n"
     ]
    }
   ],
   "source": [
    "#add one tuple to another\n",
    "x = Alphabets\n",
    "y = (\"JOKER\",)\n",
    "z = x+y\n",
    "print(z)"
   ]
  },
  {
   "cell_type": "code",
   "execution_count": 33,
   "id": "ab623d17",
   "metadata": {},
   "outputs": [
    {
     "name": "stdout",
     "output_type": "stream",
     "text": [
      "('a', 'b', 'c', 'd', 'e', 'f', 'g', 'h', 'i', 'j', 'k', 'l', 'Batman', 'n', 'o', 'p', 'q', 'r', 's', 't', 'u', 'v', 'w', 'x', 'y', 'z', 'A', 'B', 'C', 'D', 'E', 'F', 'G', 'H', 'I', 'J', 'K', 'L', 'M', 'N', 'O', 'P', 'Q', 'R', 'S', 'T', 'U', 'V', 'W', 'X', 'Y', 'Z')\n"
     ]
    }
   ],
   "source": [
    "#add list items\n",
    "y = list(Alphabets)\n",
    "y[12] = (\"Batman\")\n",
    "x = tuple(y)\n",
    "print(x)\n",
    "\n",
    "#Tuples are unchangeable, but you can convert the tuple into a list, change the list, and convert the list back into a tuple."
   ]
  },
  {
   "cell_type": "code",
   "execution_count": 35,
   "id": "38ae1fec",
   "metadata": {},
   "outputs": [
    {
     "name": "stdout",
     "output_type": "stream",
     "text": [
      "('a', 'b', 'c', 'd', 'e', 'Ironman', 'g', 'h', 'i', 'j', 'k', 'l', 'm', 'n', 'o', 'p', 'q', 'r', 's', 't', 'u', 'v', 'w', 'x', 'y', 'z', 'A', 'B', 'C', 'D', 'E', 'F', 'G', 'H', 'I', 'J', 'K', 'L', 'M', 'N', 'O', 'P', 'Q', 'R', 'S', 'T', 'U', 'V', 'W', 'X', 'Y', 'Z')\n"
     ]
    }
   ],
   "source": [
    "#change item values\n",
    "\n",
    "y= list(Alphabets)\n",
    "y[5]=(\"Ironman\")\n",
    "x=tuple(y)\n",
    "print(x)\n"
   ]
  },
  {
   "cell_type": "code",
   "execution_count": null,
   "id": "63ba8407",
   "metadata": {},
   "outputs": [],
   "source": [
    "List is ordered, changeable and allows duplicate members.\n",
    "Tuple is ordered, unchangeable and allows duplicate members.\n",
    "Set is unordered, unchangeable, and unindexed. No duplicate members.\n",
    "Dictionary is ordered ,changeable and No duplicate members."
   ]
  },
  {
   "cell_type": "code",
   "execution_count": null,
   "id": "5814e75e",
   "metadata": {},
   "outputs": [],
   "source": []
  }
 ],
 "metadata": {
  "kernelspec": {
   "display_name": "Python 3 (ipykernel)",
   "language": "python",
   "name": "python3"
  },
  "language_info": {
   "codemirror_mode": {
    "name": "ipython",
    "version": 3
   },
   "file_extension": ".py",
   "mimetype": "text/x-python",
   "name": "python",
   "nbconvert_exporter": "python",
   "pygments_lexer": "ipython3",
   "version": "3.11.5"
  }
 },
 "nbformat": 4,
 "nbformat_minor": 5
}
